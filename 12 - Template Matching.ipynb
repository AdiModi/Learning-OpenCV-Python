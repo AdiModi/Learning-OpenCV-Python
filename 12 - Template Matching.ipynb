{
 "cells": [
  {
   "cell_type": "markdown",
   "metadata": {},
   "source": [
    "# Reference: https://opencv-python-tutroals.readthedocs.io/en/latest/py_tutorials/py_imgproc/py_template_matching/py_template_matching.html"
   ]
  },
  {
   "cell_type": "code",
   "execution_count": 1,
   "metadata": {},
   "outputs": [],
   "source": [
    "import numpy as np\n",
    "import cv2\n",
    "import os\n",
    "from matplotlib import pyplot as plt"
   ]
  },
  {
   "cell_type": "code",
   "execution_count": 2,
   "metadata": {},
   "outputs": [],
   "source": [
    "def show(image, file_name_attr=''):\n",
    "    file_name = '12_{}.png'.format(file_name_attr)\n",
    "    cv2.imshow(file_name, image)\n",
    "    \n",
    "    while(True):\n",
    "        key = cv2.waitKey(0)\n",
    "        if key == 27:\n",
    "            cv2.destroyAllWindows()\n",
    "            break\n",
    "        elif key == ord('s'):\n",
    "            if cv2.imwrite(os.path.join('saved', file_name), image):\n",
    "                print('Saved Successfully!')\n",
    "            else:\n",
    "                print('Unable to Save!')\n",
    "            cv2.destroyAllWindows()\n",
    "            break"
   ]
  },
  {
   "cell_type": "code",
   "execution_count": 3,
   "metadata": {},
   "outputs": [],
   "source": [
    "image = cv2.imread(os.path.join('images', 'mario_game.png'), cv2.IMREAD_COLOR)\n",
    "gray_image = cv2.cvtColor(image, cv2.COLOR_BGR2GRAY)\n",
    "mario = cv2.imread(os.path.join('images', 'mario.png'), cv2.IMREAD_GRAYSCALE)\n",
    "coin = cv2.imread(os.path.join('images', 'coin.png'), cv2.IMREAD_GRAYSCALE)"
   ]
  },
  {
   "cell_type": "code",
   "execution_count": 4,
   "metadata": {},
   "outputs": [],
   "source": [
    "matching_mario = cv2.matchTemplate(gray_image, mario, method=cv2.TM_CCOEFF_NORMED)\n",
    "mario_idxes = np.transpose((matching_mario == matching_mario.max()).nonzero())\n",
    "marked_mario_image = image.copy()\n",
    "for mario_idx in mario_idxes:\n",
    "    point1 = (mario_idx[1], mario_idx[0])\n",
    "    point2 = (mario_idx[1]+ mario.shape[1], mario_idx[0] + mario.shape[0])\n",
    "    cv2.rectangle(marked_mario_image,\n",
    "                  point1,\n",
    "                  point2,\n",
    "                  color=(0, 255, 255),\n",
    "                  thickness=2)\n",
    "show(marked_mario_image, 'marked_mario_image')"
   ]
  },
  {
   "cell_type": "code",
   "execution_count": 5,
   "metadata": {},
   "outputs": [],
   "source": [
    "matching_coin = cv2.matchTemplate(gray_image, coin, method=cv2.TM_CCOEFF_NORMED)\n",
    "coin_idxes = np.transpose((matching_coin >= 0.9).nonzero())\n",
    "marked_coin_image = image.copy()\n",
    "for coin_idx in coin_idxes:\n",
    "    point1 = (coin_idx[1], coin_idx[0])\n",
    "    point2 = (coin_idx[1]+ coin.shape[1], coin_idx[0] + coin.shape[0])\n",
    "    cv2.rectangle(marked_coin_image,\n",
    "                  point1,\n",
    "                  point2,\n",
    "                  color=(255, 0, 255),\n",
    "                  thickness=2)\n",
    "show(marked_coin_image, 'marked_coin_image')"
   ]
  }
 ],
 "metadata": {
  "kernelspec": {
   "display_name": "Python 3",
   "language": "python",
   "name": "python3"
  },
  "language_info": {
   "codemirror_mode": {
    "name": "ipython",
    "version": 3
   },
   "file_extension": ".py",
   "mimetype": "text/x-python",
   "name": "python",
   "nbconvert_exporter": "python",
   "pygments_lexer": "ipython3",
   "version": "3.7.4"
  }
 },
 "nbformat": 4,
 "nbformat_minor": 4
}
