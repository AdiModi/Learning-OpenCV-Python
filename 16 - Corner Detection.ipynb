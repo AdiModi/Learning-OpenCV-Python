{
 "cells": [
  {
   "cell_type": "markdown",
   "metadata": {},
   "source": [
    "# Reference: https://opencv-python-tutroals.readthedocs.io/en/latest/py_tutorials/py_feature2d/py_features_harris/py_features_harris.html"
   ]
  },
  {
   "cell_type": "code",
   "execution_count": 1,
   "metadata": {},
   "outputs": [],
   "source": [
    "import numpy as np\n",
    "import cv2\n",
    "import os\n",
    "from matplotlib import pyplot as plt"
   ]
  },
  {
   "cell_type": "code",
   "execution_count": 2,
   "metadata": {},
   "outputs": [],
   "source": [
    "def show(image, file_name_attr=''):\n",
    "    file_name = '15_{}.png'.format(file_name_attr)\n",
    "    cv2.imshow(file_name, image)\n",
    "    \n",
    "    while(True):\n",
    "        key = cv2.waitKey(0)\n",
    "        if key == 27:\n",
    "            cv2.destroyAllWindows()\n",
    "            break\n",
    "        elif key == ord('s'):\n",
    "            if cv2.imwrite(os.path.join('saved', file_name), image):\n",
    "                print('Saved Successfully!')\n",
    "            else:\n",
    "                print('Unable to Save!')\n",
    "            cv2.destroyAllWindows()\n",
    "            break"
   ]
  },
  {
   "cell_type": "code",
   "execution_count": 3,
   "metadata": {},
   "outputs": [],
   "source": [
    "image = cv2.imread(os.path.join('images', '24.png'), cv2.IMREAD_COLOR)\n",
    "gray_image = cv2.cvtColor(image, cv2.COLOR_BGR2GRAY)"
   ]
  },
  {
   "cell_type": "markdown",
   "metadata": {},
   "source": [
    "# Harris Corner Detection"
   ]
  },
  {
   "cell_type": "code",
   "execution_count": 6,
   "metadata": {},
   "outputs": [
    {
     "name": "stdout",
     "output_type": "stream",
     "text": [
      "Saved Successfully!\n"
     ]
    }
   ],
   "source": [
    "dst = cv2.cornerHarris(gray_image, blockSize=5, ksize=5, k=0.04)\n",
    "marked_image = image.copy()\n",
    "marked_image[dst>0.01 * dst.max()] = [0, 0, 255]\n",
    "show(marked_image, 'harris')"
   ]
  },
  {
   "cell_type": "markdown",
   "metadata": {},
   "source": [
    "# Shi-Tomasi's Corner Detection: Good Features to Track"
   ]
  },
  {
   "cell_type": "code",
   "execution_count": 7,
   "metadata": {},
   "outputs": [
    {
     "name": "stdout",
     "output_type": "stream",
     "text": [
      "Saved Successfully!\n"
     ]
    }
   ],
   "source": [
    "corners = cv2.goodFeaturesToTrack(gray_image, maxCorners=100, qualityLevel=0.05, minDistance=10)\n",
    "marked_image = image.copy()\n",
    "for idx in range(corners.shape[0]):\n",
    "    corners_location = (int(corners[idx, 0, 0]), int(corners[idx, 0, 1]))\n",
    "    cv2.circle(marked_image, corners_location, radius=2, color=[0, 0, 255], thickness=-1, lineType=cv2.LINE_AA)\n",
    "show(marked_image, 'shi_tomasi')"
   ]
  }
 ],
 "metadata": {
  "kernelspec": {
   "display_name": "Python 3",
   "language": "python",
   "name": "python3"
  },
  "language_info": {
   "codemirror_mode": {
    "name": "ipython",
    "version": 3
   },
   "file_extension": ".py",
   "mimetype": "text/x-python",
   "name": "python",
   "nbconvert_exporter": "python",
   "pygments_lexer": "ipython3",
   "version": "3.8.0"
  }
 },
 "nbformat": 4,
 "nbformat_minor": 4
}
