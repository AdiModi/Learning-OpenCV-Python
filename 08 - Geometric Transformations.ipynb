{
 "cells": [
  {
   "cell_type": "markdown",
   "metadata": {},
   "source": [
    "# Reference: https://opencv-python-tutroals.readthedocs.io/en/latest/py_tutorials/py_imgproc/py_geometric_transformations/py_geometric_transformations.html"
   ]
  },
  {
   "cell_type": "code",
   "execution_count": 1,
   "metadata": {},
   "outputs": [],
   "source": [
    "import numpy as np\n",
    "import cv2\n",
    "import os\n",
    "from matplotlib import pyplot as plt"
   ]
  },
  {
   "cell_type": "code",
   "execution_count": 2,
   "metadata": {},
   "outputs": [],
   "source": [
    "def show(image, file_name_attr=''):\n",
    "    file_name = '08_{}.png'.format(file_name_attr)\n",
    "    cv2.imshow(file_name, image)\n",
    "    \n",
    "    while(True):\n",
    "        key = cv2.waitKey(0)\n",
    "        if key == 27:\n",
    "            cv2.destroyAllWindows()\n",
    "            break\n",
    "        elif key == ord('s'):\n",
    "            if cv2.imwrite(os.path.join('saved', file_name), image):\n",
    "                print('Saved Successfully!')\n",
    "            else:\n",
    "                print('Unable to Save!')\n",
    "            cv2.destroyAllWindows()\n",
    "            break"
   ]
  },
  {
   "cell_type": "code",
   "execution_count": 3,
   "metadata": {},
   "outputs": [],
   "source": [
    "image = cv2.imread(os.path.join('images', '10.png'), cv2.IMREAD_COLOR)"
   ]
  },
  {
   "cell_type": "markdown",
   "metadata": {},
   "source": [
    "# Resizing"
   ]
  },
  {
   "cell_type": "code",
   "execution_count": 4,
   "metadata": {},
   "outputs": [],
   "source": [
    "resized = cv2.resize(image, dsize=(720, 720), interpolation=cv2.INTER_LINEAR)\n",
    "show(resized, 'resized_linear')\n",
    "resized = cv2.resize(image, dsize=(720, 720), interpolation=cv2.INTER_CUBIC)\n",
    "show(resized, 'resized_cubic')\n",
    "resized = cv2.resize(image, dsize=(720, 720), interpolation=cv2.INTER_NEAREST)\n",
    "show(resized, 'resized_nearest')\n",
    "resized = cv2.resize(image, dsize=(256, 256), interpolation=cv2.INTER_LINEAR)\n",
    "show(resized, 'shrunken')"
   ]
  },
  {
   "cell_type": "markdown",
   "metadata": {},
   "source": [
    "# Translation"
   ]
  },
  {
   "cell_type": "code",
   "execution_count": 5,
   "metadata": {},
   "outputs": [],
   "source": [
    "M = np.array([\n",
    "    [1, 0, 64],\n",
    "    [0, 1, 48]\n",
    "], dtype=np.float)\n",
    "translated = cv2.warpAffine(image, M, image.shape[0:2], borderMode=cv2.BORDER_REFLECT101)\n",
    "show(translated, 'translated')"
   ]
  },
  {
   "cell_type": "markdown",
   "metadata": {},
   "source": [
    "# Rotation"
   ]
  },
  {
   "cell_type": "code",
   "execution_count": 6,
   "metadata": {},
   "outputs": [],
   "source": [
    "M = cv2.getRotationMatrix2D(center=(256, 256), angle=45, scale=0.5)\n",
    "rotated = cv2.warpAffine(image, M, image.shape[0:2], borderMode=cv2.BORDER_REFLECT101)\n",
    "show(rotated, 'rotated')"
   ]
  },
  {
   "cell_type": "markdown",
   "metadata": {},
   "source": [
    "# Affine Transform"
   ]
  },
  {
   "cell_type": "code",
   "execution_count": 7,
   "metadata": {},
   "outputs": [],
   "source": [
    "points1 = np.array([\n",
    "    [50, 50],\n",
    "    [200, 50],\n",
    "    [50, 200]\n",
    "], dtype=np.float32)\n",
    "points2 = np.array([\n",
    "    [10, 100],\n",
    "    [200, 50],\n",
    "    [100, 250]\n",
    "], dtype=np.float32)\n",
    "\n",
    "M = cv2.getAffineTransform(points1, points2)\n",
    "transformed = cv2.warpAffine(image, M, image.shape[0:2], borderMode=cv2.BORDER_REFLECT101)\n",
    "show(transformed, 'transformed')"
   ]
  },
  {
   "cell_type": "markdown",
   "metadata": {},
   "source": [
    "# Perspective Wrap"
   ]
  },
  {
   "cell_type": "code",
   "execution_count": 8,
   "metadata": {},
   "outputs": [],
   "source": [
    "points1 = np.array([\n",
    "    [100, 0],\n",
    "    [412, 0],\n",
    "    [0, 512],\n",
    "    [512, 512]\n",
    "], dtype=np.float32)\n",
    "points2 = np.array([\n",
    "    [0, 0],\n",
    "    [512, 50],\n",
    "    [0, 512],\n",
    "    [512, 512]\n",
    "], dtype=np.float32)\n",
    "\n",
    "M = cv2.getPerspectiveTransform(points1, points2)\n",
    "\n",
    "transformed = cv2.warpPerspective(image, M, image.shape[0:2], borderMode=cv2.BORDER_REFLECT101)\n",
    "show(transformed, 'perspective')"
   ]
  }
 ],
 "metadata": {
  "kernelspec": {
   "display_name": "Python 3",
   "language": "python",
   "name": "python3"
  },
  "language_info": {
   "codemirror_mode": {
    "name": "ipython",
    "version": 3
   },
   "file_extension": ".py",
   "mimetype": "text/x-python",
   "name": "python",
   "nbconvert_exporter": "python",
   "pygments_lexer": "ipython3",
   "version": "3.8.0"
  }
 },
 "nbformat": 4,
 "nbformat_minor": 4
}
