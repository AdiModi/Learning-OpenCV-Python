{
 "cells": [
  {
   "cell_type": "code",
   "execution_count": 1,
   "metadata": {},
   "outputs": [],
   "source": [
    "import numpy as np\n",
    "import cv2\n",
    "import os\n",
    "from matplotlib import pyplot as plt"
   ]
  },
  {
   "cell_type": "code",
   "execution_count": 2,
   "metadata": {},
   "outputs": [],
   "source": [
    "def show(image, file_name_attr=''):\n",
    "    file_name = '17_{}.png'.format(file_name_attr)\n",
    "    cv2.imshow(file_name, image)\n",
    "    \n",
    "    while(True):\n",
    "        key = cv2.waitKey(0)\n",
    "        if key == 27:\n",
    "            cv2.destroyAllWindows()\n",
    "            break\n",
    "        elif key == ord('s'):\n",
    "            if cv2.imwrite(os.path.join('saved', file_name), image):\n",
    "                print('Saved Successfully!')\n",
    "            else:\n",
    "                print('Unable to Save!')\n",
    "            cv2.destroyAllWindows()\n",
    "            break"
   ]
  },
  {
   "cell_type": "code",
   "execution_count": 3,
   "metadata": {},
   "outputs": [],
   "source": [
    "image = cv2.imread(os.path.join('images', 'mario_game.png'), cv2.IMREAD_COLOR)\n",
    "gray_image = cv2.cvtColor(image, cv2.COLOR_BGR2GRAY)\n",
    "cannyed_image = cv2.Canny(gray_image, threshold1=200, threshold2=150)"
   ]
  },
  {
   "cell_type": "code",
   "execution_count": 4,
   "metadata": {},
   "outputs": [],
   "source": [
    "show(cannyed_image)"
   ]
  },
  {
   "cell_type": "markdown",
   "metadata": {},
   "source": [
    "# Hough Line Trasnform\n",
    "Reference: https://opencv-python-tutroals.readthedocs.io/en/latest/py_tutorials/py_imgproc/py_houghlines/py_houghlines.html"
   ]
  },
  {
   "cell_type": "code",
   "execution_count": 35,
   "metadata": {},
   "outputs": [],
   "source": [
    "rho_step = 1\n",
    "theta_step = np.pi/180\n",
    "lines = cv2.HoughLines(cannyed_image, rho_step, theta_step, 275)\n",
    "line_marked_image = image.copy()\n",
    "\n",
    "for line in lines:\n",
    "    rho, theta = line[0]\n",
    "    cos_theta = np.cos(theta)\n",
    "    sin_theta = np.sin(theta)\n",
    "    \n",
    "    x0 = cos_theta * rho\n",
    "    y0 = sin_theta * rho\n",
    "    \n",
    "    x1 = int(x0 + 1000 * -sin_theta)\n",
    "    y1 = int(y0 + 1000 * cos_theta)\n",
    "    x2 = int(x0 - 1000 * -sin_theta)\n",
    "    y2 = int(y0 - 1000 * cos_theta)\n",
    "    cv2.line(line_marked_image, (x1, y1), (x2, y2), (0, 0, 255), 2)"
   ]
  },
  {
   "cell_type": "code",
   "execution_count": 40,
   "metadata": {},
   "outputs": [
    {
     "name": "stdout",
     "output_type": "stream",
     "text": [
      "Saved Successfully!\n"
     ]
    }
   ],
   "source": [
    "show(line_marked_image, 'hough_lines')"
   ]
  },
  {
   "cell_type": "markdown",
   "metadata": {},
   "source": [
    "# Hough Circle Trasnform\n",
    "Reference: https://opencv-python-tutroals.readthedocs.io/en/latest/py_tutorials/py_imgproc/py_houghcircles/py_houghcircles.html"
   ]
  },
  {
   "cell_type": "code",
   "execution_count": 38,
   "metadata": {},
   "outputs": [],
   "source": [
    "circles = cv2.HoughCircles(gray_image, cv2.HOUGH_GRADIENT, 1, minDist=15, param1=150, param2=15, minRadius=5, maxRadius=15)\n",
    "circles = np.uint(circles)\n",
    "circle_marked_image = image.copy()\n",
    "for circle in circles[0]:\n",
    "    cv2.circle(circle_marked_image, (circle[0], circle[1]), 2, (255, 255, 255), 3)\n",
    "    cv2.circle(circle_marked_image, (circle[0], circle[1]), circle[2], (0, 255, 0), 2)"
   ]
  },
  {
   "cell_type": "code",
   "execution_count": 39,
   "metadata": {},
   "outputs": [
    {
     "name": "stdout",
     "output_type": "stream",
     "text": [
      "Saved Successfully!\n"
     ]
    }
   ],
   "source": [
    "show(circle_marked_image, 'hough_circle')"
   ]
  }
 ],
 "metadata": {
  "kernelspec": {
   "display_name": "Python 3",
   "language": "python",
   "name": "python3"
  },
  "language_info": {
   "codemirror_mode": {
    "name": "ipython",
    "version": 3
   },
   "file_extension": ".py",
   "mimetype": "text/x-python",
   "name": "python",
   "nbconvert_exporter": "python",
   "pygments_lexer": "ipython3",
   "version": "3.7.4"
  }
 },
 "nbformat": 4,
 "nbformat_minor": 4
}
